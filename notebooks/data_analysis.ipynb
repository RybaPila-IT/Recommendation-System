{
 "cells": [
  {
   "cell_type": "markdown",
   "metadata": {
    "pycharm": {
     "name": "#%% md\n"
    }
   },
   "source": [
    "Autorzy: Bartosz Świrta, Radosław Radziukiewicz\n",
    "\n",
    "# Na jakie dane będziemy zwracać uwagę?\n",
    "\n",
    "Ponieważ naszym zadaniem jest skonstruowanie systemu rekomendującego **produkty użytkownikom na podstawie ich sesji**,\n",
    "będziemy potrzebowali danych użytkowników obecnych w systemie sklepu eSzoppping, wraz z ich listą interakcji.\n",
    "\n",
    "---\n",
    "\n",
    "### Dane użytkowników\n",
    "\n",
    "Dane użytkowników zawarte są w pliku **users.jsonl**.\n",
    "\n",
    "Pojedynczy rekord opisujący użytkownika składa się z następujących kolumn:\n",
    "- id użytkownika w systemie\n",
    "- imię użytkownika\n",
    "- miasto zamieszkania\n",
    "- miejsce zamieszkania\n",
    "\n",
    "Przypuszczalnie, nie wszystkie informacje zawarte w rekordach będą dla nas użyteczne. Dalsza analiza oceni przydatność poszczególnych atrybutów.\n",
    "\n",
    "---\n",
    "\n",
    "### Dane produktów\n",
    "\n",
    "Dane związane z produktami zawarte są w pliku **products.jsonl**.\n",
    "\n",
    "Pojedynczy rekord opisujący produkt składa się z następujących kolumn:\n",
    "- id produktu w systemie\n",
    "- nazwa produktu\n",
    "- kategoria przynależności produktu\n",
    "- cena produktu\n",
    "- ocena produktu\n",
    "\n",
    "Przypuszczalnie, nie wszystkie informacje zawarte w rekordach będą dla nas użyteczne. Dalsza analiza oceni przydatność poszczególnych atrybutów.\n",
    "\n",
    "---\n",
    "\n",
    "\n",
    "### Dane sesji\n",
    "\n",
    "Dane łączące użytkowników z produktami zawarte są w pliku **sessions.jsonl**.\n",
    "Plik ten zawiera rekordy opisujące aktywności użytkowników w obrębie strony eSzoppping.\n",
    "\n",
    "Pojedynczy rekord opisujący akcję użytkownika w systemie składa się z następujących kolumn:\n",
    "- id sesji w systemie\n",
    "- punkt w czasie odbycia się aktywności\n",
    "- id użytkownika, którego dotyczy wydarzenie\n",
    "- id produktu, którego dotyczy wydarzenie\n",
    "- typ wydarzenia\n",
    "- informacja o oferowanej zniżce\n",
    "- id dokonanego zakupu\n",
    "\n",
    "Aby wydobyć \"pełnię\" informacji o każdej z sesji, będziemy musieli uwzględnić pliki opisujące **produkty i użytkowników** w analizie danych sesji.\n",
    "\n",
    "Przypuszczalnie, nie wszystkie informacje zawarte w rekordach będą dla nas użyteczne. Dalsza analiza oceni przydatność poszczególnych atrybutów.\n",
    "\n",
    "---\n",
    "\n",
    "### Nieistotne dane\n",
    "\n",
    "Dane, których nie użyjemy w trakcie analizy, to te zawarte w pliku **deliveries.jsonl**. Plik ten zawiera rekordy opisujące zdarzenia dowozu produktu do kupującego. Zakładamy, iż dane te są nieistotne z punktu widzenia interakcji użytkownika ze sklepem internetowym."
   ]
  },
  {
   "cell_type": "code",
   "execution_count": 41,
   "metadata": {
    "pycharm": {
     "name": "#%%\n"
    }
   },
   "outputs": [],
   "source": [
    "import pandas as pd\n",
    "import matplotlib.pyplot as plt\n",
    "import seaborn as sns\n",
    "\n",
    "\n",
    "# Used for verbose data presentation.\n",
    "pd.set_option('display.max_rows', None)\n",
    "pd.set_option('display.max_columns', None)\n",
    "pd.set_option('max_colwidth', None)\n",
    "\n",
    "users_data_path = '../data/users.jsonl'\n",
    "products_data_path = '../data/products.jsonl'\n",
    "sessions_data_path = '../data/sessions.jsonl'\n",
    "\n",
    "users_df = pd.read_json(users_data_path, lines=True)\n",
    "sessions_df = pd.read_json(sessions_data_path, lines=True)\n",
    "products_df = pd.read_json(products_data_path, lines=True)"
   ]
  },
  {
   "cell_type": "markdown",
   "metadata": {
    "pycharm": {
     "name": "#%% md\n"
    }
   },
   "source": [
    "# Analiza samodzielnych danych\n",
    "\n",
    "Teraz dokładnie przyjrzymy się danym, które mogą być analizowane samodzielnie. Zbadamy typy ich atrybutów, rozkłady oraz podejmiemy pierwsze decyzje modelowania danych."
   ]
  },
  {
   "cell_type": "markdown",
   "metadata": {
    "pycharm": {
     "name": "#%% md\n"
    }
   },
   "source": [
    "## Dane produktów\n",
    "\n",
    "Aby mieć lepsze \"poczucie\" analizowanych danych, poniżej prezentujemy 10 pierwszych rekordów obecnych w dostarczonych danych."
   ]
  },
  {
   "cell_type": "code",
   "execution_count": 42,
   "metadata": {
    "pycharm": {
     "name": "#%%\n"
    }
   },
   "outputs": [
    {
     "data": {
      "text/plain": "   product_id                                    product_name  \\\n0        1001                   Telefon Siemens Gigaset DA310   \n1        1002                              Kyocera FS-1135MFP   \n2        1003                              Kyocera FS-3640MFP   \n3        1004                            Fallout 3 (Xbox 360)   \n4        1005  Szalone Króliki Na żywo i w kolorze (Xbox 360)   \n5        1006        Call of Duty 4 Modern Warfare (Xbox 360)   \n6        1007                         Dead Space 3 (Xbox 360)   \n7        1008   Tom Clancy&#39;s Rainbow Six Vegas (Xbox 360)   \n8        1009                      Kinect Joy Ride (Xbox 360)   \n9        1010                           BioShock 2 (Xbox 360)   \n\n                                                    category_path    price  \\\n0                       Telefony i akcesoria;Telefony stacjonarne    58.97   \n1  Komputery;Drukarki i skanery;Biurowe urządzenia wielofunkcyjne  2048.50   \n2  Komputery;Drukarki i skanery;Biurowe urządzenia wielofunkcyjne  7639.00   \n3                       Gry i konsole;Gry na konsole;Gry Xbox 360    49.99   \n4                       Gry i konsole;Gry na konsole;Gry Xbox 360    49.99   \n5                       Gry i konsole;Gry na konsole;Gry Xbox 360    59.90   \n6                       Gry i konsole;Gry na konsole;Gry Xbox 360    89.99   \n7                       Gry i konsole;Gry na konsole;Gry Xbox 360    49.99   \n8                       Gry i konsole;Gry na konsole;Gry Xbox 360    69.00   \n9                       Gry i konsole;Gry na konsole;Gry Xbox 360    89.99   \n\n   user_rating  \n0     4.625003  \n1     1.875949  \n2     1.493143  \n3     4.063970  \n4     2.949198  \n5     3.054270  \n6     3.995136  \n7     3.715598  \n8     4.801920  \n9     3.510874  ",
      "text/html": "<div>\n<style scoped>\n    .dataframe tbody tr th:only-of-type {\n        vertical-align: middle;\n    }\n\n    .dataframe tbody tr th {\n        vertical-align: top;\n    }\n\n    .dataframe thead th {\n        text-align: right;\n    }\n</style>\n<table border=\"1\" class=\"dataframe\">\n  <thead>\n    <tr style=\"text-align: right;\">\n      <th></th>\n      <th>product_id</th>\n      <th>product_name</th>\n      <th>category_path</th>\n      <th>price</th>\n      <th>user_rating</th>\n    </tr>\n  </thead>\n  <tbody>\n    <tr>\n      <th>0</th>\n      <td>1001</td>\n      <td>Telefon Siemens Gigaset DA310</td>\n      <td>Telefony i akcesoria;Telefony stacjonarne</td>\n      <td>58.97</td>\n      <td>4.625003</td>\n    </tr>\n    <tr>\n      <th>1</th>\n      <td>1002</td>\n      <td>Kyocera FS-1135MFP</td>\n      <td>Komputery;Drukarki i skanery;Biurowe urządzenia wielofunkcyjne</td>\n      <td>2048.50</td>\n      <td>1.875949</td>\n    </tr>\n    <tr>\n      <th>2</th>\n      <td>1003</td>\n      <td>Kyocera FS-3640MFP</td>\n      <td>Komputery;Drukarki i skanery;Biurowe urządzenia wielofunkcyjne</td>\n      <td>7639.00</td>\n      <td>1.493143</td>\n    </tr>\n    <tr>\n      <th>3</th>\n      <td>1004</td>\n      <td>Fallout 3 (Xbox 360)</td>\n      <td>Gry i konsole;Gry na konsole;Gry Xbox 360</td>\n      <td>49.99</td>\n      <td>4.063970</td>\n    </tr>\n    <tr>\n      <th>4</th>\n      <td>1005</td>\n      <td>Szalone Króliki Na żywo i w kolorze (Xbox 360)</td>\n      <td>Gry i konsole;Gry na konsole;Gry Xbox 360</td>\n      <td>49.99</td>\n      <td>2.949198</td>\n    </tr>\n    <tr>\n      <th>5</th>\n      <td>1006</td>\n      <td>Call of Duty 4 Modern Warfare (Xbox 360)</td>\n      <td>Gry i konsole;Gry na konsole;Gry Xbox 360</td>\n      <td>59.90</td>\n      <td>3.054270</td>\n    </tr>\n    <tr>\n      <th>6</th>\n      <td>1007</td>\n      <td>Dead Space 3 (Xbox 360)</td>\n      <td>Gry i konsole;Gry na konsole;Gry Xbox 360</td>\n      <td>89.99</td>\n      <td>3.995136</td>\n    </tr>\n    <tr>\n      <th>7</th>\n      <td>1008</td>\n      <td>Tom Clancy&amp;#39;s Rainbow Six Vegas (Xbox 360)</td>\n      <td>Gry i konsole;Gry na konsole;Gry Xbox 360</td>\n      <td>49.99</td>\n      <td>3.715598</td>\n    </tr>\n    <tr>\n      <th>8</th>\n      <td>1009</td>\n      <td>Kinect Joy Ride (Xbox 360)</td>\n      <td>Gry i konsole;Gry na konsole;Gry Xbox 360</td>\n      <td>69.00</td>\n      <td>4.801920</td>\n    </tr>\n    <tr>\n      <th>9</th>\n      <td>1010</td>\n      <td>BioShock 2 (Xbox 360)</td>\n      <td>Gry i konsole;Gry na konsole;Gry Xbox 360</td>\n      <td>89.99</td>\n      <td>3.510874</td>\n    </tr>\n  </tbody>\n</table>\n</div>"
     },
     "execution_count": 42,
     "metadata": {},
     "output_type": "execute_result"
    }
   ],
   "source": [
    "products_df.head(n=10)"
   ]
  },
  {
   "cell_type": "markdown",
   "metadata": {
    "pycharm": {
     "name": "#%% md\n"
    }
   },
   "source": [
    "Już z tych przykładowych danych możemy wyciągnąć kilka interesujących wniosków. Po pierwsze, ceny produktów mogę w sposób znaczący różnić się między sobą (58.97 kontra 7639.00). Po drugie, nazwa produktu wydaje się zbędna w momencie posiadania jego identyfikatora (jest ona po prostu kolejnym unikatowym ciągiem znaków). Po trzecie, i to jest najbardziej istotny wniosek, kolumna **category_path** zawiera informację o kategorii produktu w formie \"doprecyzowywania\" tzn. kategorie rozdzielane są znakiem **;** a najistotniejsza kategoria umieszczona jest na samym początku napisu."
   ]
  },
  {
   "cell_type": "code",
   "execution_count": 43,
   "metadata": {
    "pycharm": {
     "name": "#%%\n"
    }
   },
   "outputs": [
    {
     "name": "stdout",
     "output_type": "stream",
     "text": [
      "<class 'pandas.core.frame.DataFrame'>\n",
      "RangeIndex: 319 entries, 0 to 318\n",
      "Data columns (total 5 columns):\n",
      " #   Column         Non-Null Count  Dtype  \n",
      "---  ------         --------------  -----  \n",
      " 0   product_id     319 non-null    int64  \n",
      " 1   product_name   319 non-null    object \n",
      " 2   category_path  319 non-null    object \n",
      " 3   price          319 non-null    float64\n",
      " 4   user_rating    319 non-null    float64\n",
      "dtypes: float64(2), int64(1), object(2)\n",
      "memory usage: 12.6+ KB\n"
     ]
    }
   ],
   "source": [
    "products_df.info()"
   ]
  },
  {
   "cell_type": "markdown",
   "metadata": {
    "pycharm": {
     "name": "#%% md\n"
    }
   },
   "source": [
    "Widzimy, iż dane produktów nie zawierają żadnych brakujących wartości. \n",
    "\n",
    "Dane produktów zawierają dwie kolumny o typie napisowym (product_name oraz category_path), jedną o typie całkowitym (product_id) oraz dwie o typie zmiennoprzecinkowym (price i user_rating)."
   ]
  },
  {
   "cell_type": "markdown",
   "metadata": {
    "pycharm": {
     "name": "#%% md\n"
    }
   },
   "source": [
    "### Identyfikatory produktu\n",
    "\n",
    "W celu lepszego zaznajomienia się z danymi opisującymi identyfikator produktu dokonujemy dalszej analizy kolumny **product_id**."
   ]
  },
  {
   "cell_type": "code",
   "execution_count": 44,
   "metadata": {
    "pycharm": {
     "name": "#%%\n"
    }
   },
   "outputs": [
    {
     "name": "stdout",
     "output_type": "stream",
     "text": [
      "Max id of the product is: 1319\n",
      "Min id of the product is: 1001\n",
      "Distinct id count is: 319\n"
     ]
    }
   ],
   "source": [
    "print('Max id of the product is: {}'.format(products_df['product_id'].max()))\n",
    "print('Min id of the product is: {}'.format(products_df['product_id'].min()))\n",
    "print('Distinct id count is: {}'.format(products_df['product_id'].nunique()))"
   ]
  },
  {
   "cell_type": "markdown",
   "metadata": {
    "pycharm": {
     "name": "#%% md\n"
    }
   },
   "source": [
    "Jak widzimy, minimalnym identyfikatorem produktu jest wartość **1001** a maksymalnym wartość **1319**. Ponadto wszystkie wartości pomiędzy **1001 a 1319** są osiągane dokładnie 1 raz."
   ]
  },
  {
   "cell_type": "markdown",
   "metadata": {
    "pycharm": {
     "name": "#%% md\n"
    }
   },
   "source": [
    "### Nazwy produktu\n",
    "\n",
    "Następnie analizie poddamy kolumnę opisującą nazwę produktu **product_name**."
   ]
  },
  {
   "cell_type": "code",
   "execution_count": 45,
   "metadata": {
    "pycharm": {
     "name": "#%%\n"
    }
   },
   "outputs": [
    {
     "name": "stdout",
     "output_type": "stream",
     "text": [
      "Distinct name count is: 319\n"
     ]
    }
   ],
   "source": [
    "print('Distinct name count is: {}'.format(products_df['product_name'].nunique()))"
   ]
  },
  {
   "cell_type": "markdown",
   "metadata": {
    "pycharm": {
     "name": "#%% md\n"
    }
   },
   "source": [
    "Widzimy, iż w naszych danych nie występują produkty o tych samych nazwach."
   ]
  },
  {
   "cell_type": "markdown",
   "metadata": {
    "pycharm": {
     "name": "#%% md\n"
    }
   },
   "source": [
    "### Ścieżka kategorii\n",
    "\n",
    "Teraz analizie poddamy kolumnę opisującą ścieżkę kategorii produktu **category_path**. W tym celu przyjrzymy się dostępnym ścieżkom kategorii oraz liczności każdej z nich tzn. ile produktów należy do danej ścieżki."
   ]
  },
  {
   "cell_type": "code",
   "execution_count": 46,
   "metadata": {
    "pycharm": {
     "name": "#%%\n"
    }
   },
   "outputs": [
    {
     "name": "stdout",
     "output_type": "stream",
     "text": [
      "                                    Gry i konsole;Gry komputerowe\n",
      "                    Gry i konsole;Gry na konsole;Gry PlayStation3\n",
      "                        Gry i konsole;Gry na konsole;Gry Xbox 360\n",
      "   Komputery;Drukarki i skanery;Biurowe urządzenia wielofunkcyjne\n",
      "                                  Komputery;Monitory;Monitory LCD\n",
      "                            Komputery;Tablety i akcesoria;Tablety\n",
      "                                       Sprzęt RTV;Audio;Słuchawki\n",
      "         Sprzęt RTV;Przenośne audio i video;Odtwarzacze mp3 i mp4\n",
      "                                 Sprzęt RTV;Video;Odtwarzacze DVD\n",
      "               Sprzęt RTV;Video;Telewizory i akcesoria;Anteny RTV\n",
      "               Sprzęt RTV;Video;Telewizory i akcesoria;Okulary 3D\n",
      "Telefony i akcesoria;Akcesoria telefoniczne;Zestawy głośnomówiące\n",
      "  Telefony i akcesoria;Akcesoria telefoniczne;Zestawy słuchawkowe\n",
      "                          Telefony i akcesoria;Telefony komórkowe\n",
      "                        Telefony i akcesoria;Telefony stacjonarne\n"
     ]
    }
   ],
   "source": [
    "print(products_df['category_path'].drop_duplicates().reset_index(drop=True).sort_values().to_string(index=False))"
   ]
  },
  {
   "cell_type": "markdown",
   "metadata": {
    "pycharm": {
     "name": "#%% md\n"
    }
   },
   "source": [
    "Zauważamy, że ścieżki kategorii tworzą hierarchię. Każda kategoria ma swój korzeń, który jest rozwijany poprzez ewentualne dopisywanie nowych podkategorii."
   ]
  },
  {
   "cell_type": "code",
   "execution_count": 47,
   "metadata": {
    "pycharm": {
     "name": "#%%\n"
    }
   },
   "outputs": [
    {
     "data": {
      "text/plain": "category_path\nGry i konsole;Gry komputerowe                                        202\nGry i konsole;Gry na konsole;Gry Xbox 360                             32\nSprzęt RTV;Video;Telewizory i akcesoria;Anteny RTV                    30\nKomputery;Monitory;Monitory LCD                                       17\nGry i konsole;Gry na konsole;Gry PlayStation3                          9\nKomputery;Drukarki i skanery;Biurowe urządzenia wielofunkcyjne         9\nTelefony i akcesoria;Akcesoria telefoniczne;Zestawy głośnomówiące      5\nTelefony i akcesoria;Akcesoria telefoniczne;Zestawy słuchawkowe        4\nKomputery;Tablety i akcesoria;Tablety                                  2\nSprzęt RTV;Przenośne audio i video;Odtwarzacze mp3 i mp4               2\nSprzęt RTV;Video;Odtwarzacze DVD                                       2\nTelefony i akcesoria;Telefony komórkowe                                2\nSprzęt RTV;Audio;Słuchawki                                             1\nSprzęt RTV;Video;Telewizory i akcesoria;Okulary 3D                     1\nTelefony i akcesoria;Telefony stacjonarne                              1\nName: product_id, dtype: int64"
     },
     "execution_count": 47,
     "metadata": {},
     "output_type": "execute_result"
    }
   ],
   "source": [
    "products_df.groupby('category_path')['product_id'].count().sort_values(ascending=False)"
   ]
  },
  {
   "cell_type": "markdown",
   "metadata": {
    "pycharm": {
     "name": "#%% md\n"
    }
   },
   "source": [
    "Powyższy wynik ukazuje nam, że liczba produktów w kategoriach nie jest rozłożona w sposób równomierny. Niektóre kategorie posiadają jedynie jeden zakwalifikowany produkt, podczas gdy inne zawierają ich aż kilkadziesiąt lub kilkaset. Proponowanym rozwiązaniem będzie zmniejszenie liczby dostępnych kategorii poprzez rzutowanie danych na odpowiedni korzeń hierarchii kategorii.\n",
    "\n",
    "Poprzez rzutowanie moglibyśmy otrzymać następujące wyniki:\n",
    "- \"Gry komputerowe\": 202\n",
    "- \"Gry na konsole\": 41 (Xbox and PS3)\n",
    "- \"Sprzęt RTV\": 36\n",
    "- \"Komputery\": 28\n",
    "- \"Telefony i akcesoria\": 12\n",
    "\n",
    "Liczba i liczność wytworzonych kategorii wydaje się zadowalająca na ten moment."
   ]
  },
  {
   "cell_type": "code",
   "execution_count": 48,
   "metadata": {
    "pycharm": {
     "name": "#%%\n"
    }
   },
   "outputs": [
    {
     "name": "stdout",
     "output_type": "stream",
     "text": [
      "Gry komputerowe         202\n",
      "Gry na konsole           41\n",
      "Sprzęt RTV               36\n",
      "Komputery                28\n",
      "Telefony i akcesoria     12\n",
      "Name: category_path, dtype: int64\n"
     ]
    }
   ],
   "source": [
    "separator = ';'\n",
    "new_groups = ['Gry komputerowe', 'Gry na konsole', 'Sprzęt RTV', 'Komputery', 'Telefony i akcesoria']\n",
    "\n",
    "def cast_category_path(category_path):\n",
    "    categories = category_path.split(separator)\n",
    "    found_groups = [group for group in new_groups if group in categories]\n",
    "    if len(found_groups) != 1:\n",
    "        raise RuntimeError('wrong group cast: {}'.format(found_groups))\n",
    "    return found_groups[0]\n",
    "\n",
    "transformed = products_df['category_path'].apply(cast_category_path)\n",
    "print(transformed.value_counts())"
   ]
  },
  {
   "cell_type": "markdown",
   "metadata": {
    "pycharm": {
     "name": "#%% md\n"
    }
   },
   "source": [
    "### Cena produktu\n",
    "\n",
    "Poniżej przedstawiamy histogram prezentujący rozkład wartości cen zawartych w kolumnie **price**."
   ]
  },
  {
   "cell_type": "code",
   "execution_count": 49,
   "metadata": {
    "pycharm": {
     "name": "#%%\n"
    }
   },
   "outputs": [
    {
     "name": "stdout",
     "output_type": "stream",
     "text": [
      "Max price is: 7639.0\n",
      "Min price is: 1.0\n"
     ]
    },
    {
     "data": {
      "text/plain": "<seaborn.axisgrid.FacetGrid at 0x1bd634d1210>"
     },
     "execution_count": 49,
     "metadata": {},
     "output_type": "execute_result"
    },
    {
     "data": {
      "text/plain": "<Figure size 360x360 with 1 Axes>",
      "image/png": "[encoded data removed]"
     },
     "metadata": {},
     "output_type": "display_data"
    }
   ],
   "source": [
    "print('Max price is: {}'.format(products_df['price'].max()))\n",
    "print('Min price is: {}'.format(products_df['price'].min()))\n",
    "\n",
    "sns.displot(data=products_df, x=\"price\", kind=\"kde\")"
   ]
  },
  {
   "cell_type": "code",
   "execution_count": 50,
   "metadata": {
    "scrolled": true,
    "pycharm": {
     "name": "#%%\n"
    }
   },
   "outputs": [
    {
     "data": {
      "text/plain": "<AxesSubplot:xlabel='price'>"
     },
     "execution_count": 50,
     "metadata": {},
     "output_type": "execute_result"
    },
    {
     "data": {
      "text/plain": "<Figure size 432x288 with 1 Axes>",
      "image/png": "[encoded data removed]"
     },
     "metadata": {},
     "output_type": "display_data"
    }
   ],
   "source": [
    "sns.violinplot(data=products_df, x='price')"
   ]
  },
  {
   "cell_type": "markdown",
   "metadata": {
    "pycharm": {
     "name": "#%% md\n"
    }
   },
   "source": [
    "Widzimy, że zdecydowana większość cen mieści się poniżej kwoty 100. Niestety, wartości odstające zakłócają wygląd wykresów. Decydujemy się rozbić produkty na tańsze i droższe. Jako punkt podziału przyjmujemy wartość 100. "
   ]
  },
  {
   "cell_type": "code",
   "execution_count": 51,
   "metadata": {
    "pycharm": {
     "name": "#%%\n"
    }
   },
   "outputs": [
    {
     "name": "stdout",
     "output_type": "stream",
     "text": [
      "Cheap products amount is: 247\n",
      "Expensive products amount is: 72\n"
     ]
    },
    {
     "data": {
      "text/plain": "<Figure size 360x360 with 1 Axes>",
      "image/png": "[encoded data removed]"
     },
     "metadata": {},
     "output_type": "display_data"
    },
    {
     "data": {
      "text/plain": "<Figure size 360x360 with 1 Axes>",
      "image/png": "[encoded data removed]"
     },
     "metadata": {},
     "output_type": "display_data"
    }
   ],
   "source": [
    "threshold = 100\n",
    "\n",
    "cheap_products = (products_df.loc[products_df['price'] < threshold], 'Cheap')\n",
    "expensive_products = (products_df.loc[products_df['price'] >= threshold], 'Expensive')\n",
    "\n",
    "products_split = [cheap_products, expensive_products]\n",
    "\n",
    "for ps in products_split:\n",
    "    print('{} products amount is: {}'.format(ps[1], ps[0]['price'].count()))\n",
    "    sns.displot(data=ps[0], x=\"price\", kind=\"kde\")"
   ]
  },
  {
   "cell_type": "markdown",
   "metadata": {
    "pycharm": {
     "name": "#%% md\n"
    }
   },
   "source": [
    "Jak widzimy, wartości zmiennej opisującej ceny produktu nie są rozłożone w sposób równomierny. Przypominają jednak złożenia kilku rozkładów normalnych, których wartości oczekiwane i wariancje są różne. Interesujące wydają nam się również produkty z ceną 1.0. Postanawiamy przyjrzeć się rekordom z taką ceną."
   ]
  },
  {
   "cell_type": "code",
   "execution_count": 52,
   "metadata": {
    "pycharm": {
     "name": "#%%\n"
    }
   },
   "outputs": [
    {
     "data": {
      "text/plain": "     product_id                      product_name  \\\n140        1141  Król Futbolu Piłkarski Quiz (PC)   \n192        1193           Heroes Over Europe (PC)   \n271        1272                     The Ball (PC)   \n\n                     category_path  price  user_rating  \n140  Gry i konsole;Gry komputerowe    1.0     4.769109  \n192  Gry i konsole;Gry komputerowe    1.0     0.643202  \n271  Gry i konsole;Gry komputerowe    1.0     3.863771  ",
      "text/html": "<div>\n<style scoped>\n    .dataframe tbody tr th:only-of-type {\n        vertical-align: middle;\n    }\n\n    .dataframe tbody tr th {\n        vertical-align: top;\n    }\n\n    .dataframe thead th {\n        text-align: right;\n    }\n</style>\n<table border=\"1\" class=\"dataframe\">\n  <thead>\n    <tr style=\"text-align: right;\">\n      <th></th>\n      <th>product_id</th>\n      <th>product_name</th>\n      <th>category_path</th>\n      <th>price</th>\n      <th>user_rating</th>\n    </tr>\n  </thead>\n  <tbody>\n    <tr>\n      <th>140</th>\n      <td>1141</td>\n      <td>Król Futbolu Piłkarski Quiz (PC)</td>\n      <td>Gry i konsole;Gry komputerowe</td>\n      <td>1.0</td>\n      <td>4.769109</td>\n    </tr>\n    <tr>\n      <th>192</th>\n      <td>1193</td>\n      <td>Heroes Over Europe (PC)</td>\n      <td>Gry i konsole;Gry komputerowe</td>\n      <td>1.0</td>\n      <td>0.643202</td>\n    </tr>\n    <tr>\n      <th>271</th>\n      <td>1272</td>\n      <td>The Ball (PC)</td>\n      <td>Gry i konsole;Gry komputerowe</td>\n      <td>1.0</td>\n      <td>3.863771</td>\n    </tr>\n  </tbody>\n</table>\n</div>"
     },
     "execution_count": 52,
     "metadata": {},
     "output_type": "execute_result"
    }
   ],
   "source": [
    "products_df.loc[products_df[\"price\"] == products_df[\"price\"].min()]"
   ]
  },
  {
   "cell_type": "markdown",
   "metadata": {
    "pycharm": {
     "name": "#%% md\n"
    }
   },
   "source": [
    "Powyższe pozycje, choć zastanawiające, są możliwe."
   ]
  },
  {
   "cell_type": "markdown",
   "metadata": {
    "pycharm": {
     "name": "#%% md\n"
    }
   },
   "source": [
    "### Ocena produktu\n",
    "\n",
    "Poniżej prezentujemy wykres przedstawiający rozkład wartości zmiennych opisujących opinie o produkcie zawartych w kolumnie **user_rating**."
   ]
  },
  {
   "cell_type": "code",
   "execution_count": 53,
   "metadata": {
    "pycharm": {
     "name": "#%%\n"
    }
   },
   "outputs": [
    {
     "name": "stdout",
     "output_type": "stream",
     "text": [
      "Max rating is: 4.979449037424941\n",
      "Min rating is: 0.02034268681253\n"
     ]
    },
    {
     "data": {
      "text/plain": "<seaborn.axisgrid.FacetGrid at 0x1bd65927fd0>"
     },
     "execution_count": 53,
     "metadata": {},
     "output_type": "execute_result"
    },
    {
     "data": {
      "text/plain": "<Figure size 360x360 with 1 Axes>",
      "image/png": "[encoded data removed]"
     },
     "metadata": {},
     "output_type": "display_data"
    }
   ],
   "source": [
    "print('Max rating is: {}'.format(products_df['user_rating'].max()))\n",
    "print('Min rating is: {}'.format(products_df['user_rating'].min()))\n",
    "\n",
    "sns.displot(data=products_df, x='user_rating', kind='kde')"
   ]
  },
  {
   "cell_type": "markdown",
   "metadata": {
    "pycharm": {
     "name": "#%% md\n"
    }
   },
   "source": [
    "Jak widać, opinie o produktach rozłożone są w sposób bardziej równomierny niż ceny produktów. Ponadto, wszystkie wartości z kolumny **user_rating** zawarte są w przedziale (0,5)."
   ]
  },
  {
   "cell_type": "markdown",
   "metadata": {
    "pycharm": {
     "name": "#%% md\n"
    }
   },
   "source": [
    "## Dane użytkowników\n",
    "\n",
    "Podobnie jak w przypadku analizy danych o produktach, przyjrzyjmy się przykładowym wpisom w dostępnych danych:"
   ]
  },
  {
   "cell_type": "code",
   "execution_count": 54,
   "metadata": {
    "pycharm": {
     "name": "#%%\n"
    }
   },
   "outputs": [
    {
     "data": {
      "text/plain": "   user_id                  name      city  \\\n0      102          Hubert Rybus  Warszawa   \n1      103        Dominik Sławik   Wrocław   \n2      104       Nataniel Niećko    Poznań   \n3      105     Kajetan Sieradzan  Szczecin   \n4      106  Gabriel Grygorcewicz    Kraków   \n5      107     Kornelia Oleksiuk  Szczecin   \n6      108       Nataniel Maciuk     Radom   \n7      109        Dagmara Kurach   Wrocław   \n8      110         Tomasz Łudzik   Wrocław   \n9      111          Maciej Zioła    Poznań   \n\n                                  street  \n0                  aleja Popiełuszki 640  \n1                      plac Sportowa 575  \n2                  pl. Szymanowskiego 87  \n3  ulica Powstańców Wielkopolskich 76/43  \n4                        plac Tęczowa 57  \n5                  pl. Partyzantów 54/71  \n6               ul. Kochanowskiego 78/35  \n7                          plac Wodna 58  \n8                          ulica Maja 28  \n9                          al. Śląska 30  ",
      "text/html": "<div>\n<style scoped>\n    .dataframe tbody tr th:only-of-type {\n        vertical-align: middle;\n    }\n\n    .dataframe tbody tr th {\n        vertical-align: top;\n    }\n\n    .dataframe thead th {\n        text-align: right;\n    }\n</style>\n<table border=\"1\" class=\"dataframe\">\n  <thead>\n    <tr style=\"text-align: right;\">\n      <th></th>\n      <th>user_id</th>\n      <th>name</th>\n      <th>city</th>\n      <th>street</th>\n    </tr>\n  </thead>\n  <tbody>\n    <tr>\n      <th>0</th>\n      <td>102</td>\n      <td>Hubert Rybus</td>\n      <td>Warszawa</td>\n      <td>aleja Popiełuszki 640</td>\n    </tr>\n    <tr>\n      <th>1</th>\n      <td>103</td>\n      <td>Dominik Sławik</td>\n      <td>Wrocław</td>\n      <td>plac Sportowa 575</td>\n    </tr>\n    <tr>\n      <th>2</th>\n      <td>104</td>\n      <td>Nataniel Niećko</td>\n      <td>Poznań</td>\n      <td>pl. Szymanowskiego 87</td>\n    </tr>\n    <tr>\n      <th>3</th>\n      <td>105</td>\n      <td>Kajetan Sieradzan</td>\n      <td>Szczecin</td>\n      <td>ulica Powstańców Wielkopolskich 76/43</td>\n    </tr>\n    <tr>\n      <th>4</th>\n      <td>106</td>\n      <td>Gabriel Grygorcewicz</td>\n      <td>Kraków</td>\n      <td>plac Tęczowa 57</td>\n    </tr>\n    <tr>\n      <th>5</th>\n      <td>107</td>\n      <td>Kornelia Oleksiuk</td>\n      <td>Szczecin</td>\n      <td>pl. Partyzantów 54/71</td>\n    </tr>\n    <tr>\n      <th>6</th>\n      <td>108</td>\n      <td>Nataniel Maciuk</td>\n      <td>Radom</td>\n      <td>ul. Kochanowskiego 78/35</td>\n    </tr>\n    <tr>\n      <th>7</th>\n      <td>109</td>\n      <td>Dagmara Kurach</td>\n      <td>Wrocław</td>\n      <td>plac Wodna 58</td>\n    </tr>\n    <tr>\n      <th>8</th>\n      <td>110</td>\n      <td>Tomasz Łudzik</td>\n      <td>Wrocław</td>\n      <td>ulica Maja 28</td>\n    </tr>\n    <tr>\n      <th>9</th>\n      <td>111</td>\n      <td>Maciej Zioła</td>\n      <td>Poznań</td>\n      <td>al. Śląska 30</td>\n    </tr>\n  </tbody>\n</table>\n</div>"
     },
     "execution_count": 54,
     "metadata": {},
     "output_type": "execute_result"
    }
   ],
   "source": [
    "users_df.head(n=10)"
   ]
  },
  {
   "cell_type": "markdown",
   "metadata": {
    "pycharm": {
     "name": "#%% md\n"
    }
   },
   "source": [
    "Widzimy, że praktycznie wszystkie kolumny posiadają typ napisowy (**name, city, street**). Ponadto, kolumna **street** w rzeczywistości zawiera adres użytkownika, a nie ulicę, na której mieszka. Pozostałe kolumny wydają się standardowe w kontekście zawieranych danych."
   ]
  },
  {
   "cell_type": "code",
   "execution_count": 55,
   "metadata": {
    "pycharm": {
     "name": "#%%\n"
    }
   },
   "outputs": [
    {
     "name": "stdout",
     "output_type": "stream",
     "text": [
      "<class 'pandas.core.frame.DataFrame'>\n",
      "RangeIndex: 200 entries, 0 to 199\n",
      "Data columns (total 4 columns):\n",
      " #   Column   Non-Null Count  Dtype \n",
      "---  ------   --------------  ----- \n",
      " 0   user_id  200 non-null    int64 \n",
      " 1   name     200 non-null    object\n",
      " 2   city     200 non-null    object\n",
      " 3   street   200 non-null    object\n",
      "dtypes: int64(1), object(3)\n",
      "memory usage: 6.4+ KB\n"
     ]
    }
   ],
   "source": [
    "users_df.info()"
   ]
  },
  {
   "cell_type": "markdown",
   "metadata": {
    "pycharm": {
     "name": "#%% md\n"
    }
   },
   "source": [
    "Widzimy, że dane użytkowników nie zawierają żadnych brakujących wartości. Wszystkie wpisy są kompletne."
   ]
  },
  {
   "cell_type": "markdown",
   "metadata": {
    "pycharm": {
     "name": "#%% md\n"
    }
   },
   "source": [
    "### Identyfikator użytkownika\n",
    "\n",
    "Teraz przyjrzymy się wartościom zawartym w kolumnie **user_id**. Interesuje nas, czy wszystkie wartości są unikalne. Ponadto dobrze byłoby znać zakres identyfikatorów oraz czy jest on w pełni zapełniony."
   ]
  },
  {
   "cell_type": "code",
   "execution_count": 56,
   "metadata": {
    "pycharm": {
     "name": "#%%\n"
    }
   },
   "outputs": [
    {
     "name": "stdout",
     "output_type": "stream",
     "text": [
      "Max user id is: 301\n",
      "Min user id is: 102\n",
      "Unique identifiers number is: 200\n"
     ]
    }
   ],
   "source": [
    "print('Max user id is: {}'.format(users_df['user_id'].max()))\n",
    "print('Min user id is: {}'.format(users_df['user_id'].min()))\n",
    "print('Unique identifiers number is: {}'.format(users_df['user_id'].nunique()))"
   ]
  },
  {
   "cell_type": "markdown",
   "metadata": {
    "pycharm": {
     "name": "#%% md\n"
    }
   },
   "source": [
    "Z powyższych wyników wnioskujemy, że zakres identyfikatorów wynosi [102, 301]. Ponadto, każda wartość w tym zakresie przyjmowana jest dokładnie jeden raz."
   ]
  },
  {
   "cell_type": "markdown",
   "metadata": {
    "pycharm": {
     "name": "#%% md\n"
    }
   },
   "source": [
    "### Imię użytkownika\n",
    "\n",
    "Następną kolumną, jaką poddamy dalszej analizie, jest ta zawierająca informacje o imieniu użytkownika. Jesteśmy zainteresowani, czy w dostępnych danych istnieje duplikacja użytkownika (różne identyfikatory, ale to samo imię i nazwisko)."
   ]
  },
  {
   "cell_type": "code",
   "execution_count": 57,
   "metadata": {
    "pycharm": {
     "name": "#%%\n"
    }
   },
   "outputs": [
    {
     "name": "stdout",
     "output_type": "stream",
     "text": [
      "Unique name count is: 200\n"
     ]
    }
   ],
   "source": [
    "print('Unique name count is: {}'.format(users_df['name'].nunique()))"
   ]
  },
  {
   "cell_type": "markdown",
   "metadata": {
    "pycharm": {
     "name": "#%% md\n"
    }
   },
   "source": [
    "Jak widać, wszystkie imiona użytkowników są unikatowe. Dzięki temu jesteśmy w stanie stwierdzić, że w zbiorze danych nie występują potencjalne anomalie. Poza tym zakładamy, że kolumna o nazwie **name** nie wnosi żadnych nowych informacji do modelu i rozwiązywanego zagadnienia."
   ]
  },
  {
   "cell_type": "markdown",
   "metadata": {
    "pycharm": {
     "name": "#%% md\n"
    }
   },
   "source": [
    "### Miasto zamieszkania\n",
    "\n",
    "Kolumna zawierająca miasto zamieszkania użytkownika (zakładamy, że jest to miejsce zamieszkania, jednak nie mamy tutaj żadnej pewności co do tego) wydaje się nieść potencjalnie wiele przydatnych informacji. Przede wszystkim dzięki niej jesteśmy w stanie stwierdzić, czy zbiór użytkowników, na których operujemy, jest reprezentatywny. Ponadto potencjalnie może zachodzić korelacja pomiędzy miastem zamieszkania a zainteresowaniem pewnymi produktami przez grupy użytkowników. Poniżej prezentujemy histogram z uzyskanymi wynikami."
   ]
  },
  {
   "cell_type": "code",
   "execution_count": 58,
   "metadata": {
    "pycharm": {
     "name": "#%%\n"
    }
   },
   "outputs": [
    {
     "data": {
      "text/plain": "<seaborn.axisgrid.FacetGrid at 0x1bd61ec7220>"
     },
     "execution_count": 58,
     "metadata": {},
     "output_type": "execute_result"
    },
    {
     "data": {
      "text/plain": "<Figure size 576x576 with 1 Axes>",
      "image/png": "[encoded data removed]"
     },
     "metadata": {},
     "output_type": "display_data"
    }
   ],
   "source": [
    "sns.catplot(data=users_df, kind='count', x='city', height=8)"
   ]
  },
  {
   "cell_type": "markdown",
   "metadata": {
    "pycharm": {
     "name": "#%% md\n"
    }
   },
   "source": [
    "Z powyższego histogramu widzimy, iż pomimo pewnych nieregularności, dane są rozłożone dość równomiernie. Dzięki temu jesteśmy w stanie stwierdzić, że dane, na których pracujemy, są reprezentatywne"
   ]
  },
  {
   "cell_type": "markdown",
   "metadata": {
    "pycharm": {
     "name": "#%% md\n"
    }
   },
   "source": [
    "### Miejsce zamieszkania\n",
    "\n",
    "Ostatnią kolumną do przeanalizowania jest ta zawierająca dane o adresach użytkowników. Zakładamy, iż prawdopodobnie kolumna to nie będzie dla nas w żaden sposób informatywna. Niemniej jednak jesteśmy zainteresowani, czy w danych nie występuje duplikacja adresu."
   ]
  },
  {
   "cell_type": "code",
   "execution_count": 59,
   "metadata": {
    "pycharm": {
     "name": "#%%\n"
    }
   },
   "outputs": [
    {
     "name": "stdout",
     "output_type": "stream",
     "text": [
      "Unique address count is: 200\n"
     ]
    }
   ],
   "source": [
    "print('Unique address count is: {}'.format(users_df['street'].nunique()))"
   ]
  },
  {
   "cell_type": "markdown",
   "metadata": {
    "pycharm": {
     "name": "#%% md\n"
    }
   },
   "source": [
    "Jak widać, wszystkie adresu są unikatowe."
   ]
  },
  {
   "cell_type": "markdown",
   "metadata": {
    "pycharm": {
     "name": "#%% md\n"
    }
   },
   "source": [
    "## Dane sesji\n",
    "\n",
    "Przyjrzyjmy się nieco bliżej danym sesji."
   ]
  },
  {
   "cell_type": "code",
   "execution_count": 60,
   "metadata": {
    "pycharm": {
     "name": "#%%\n"
    }
   },
   "outputs": [
    {
     "data": {
      "text/plain": "   session_id           timestamp  user_id  product_id    event_type  \\\n0         124 2020-03-17 21:55:02      102        1148  VIEW_PRODUCT   \n1         124 2020-03-17 21:59:51      102        1054  VIEW_PRODUCT   \n2         124 2020-03-17 22:00:12      102        1054   BUY_PRODUCT   \n3         125 2020-08-29 21:34:55      102        1046  VIEW_PRODUCT   \n4         125 2020-08-29 21:35:46      102        1084  VIEW_PRODUCT   \n5         125 2020-08-29 21:39:53      102        1276  VIEW_PRODUCT   \n6         125 2020-08-29 21:43:47      102        1276  VIEW_PRODUCT   \n7         125 2020-08-29 21:48:11      102        1276   BUY_PRODUCT   \n8         126 2021-05-07 17:33:16      102        1017  VIEW_PRODUCT   \n9         126 2021-05-07 17:37:59      102        1025  VIEW_PRODUCT   \n\n   offered_discount  purchase_id  \n0                15          NaN  \n1                15          NaN  \n2                15      20001.0  \n3                 0          NaN  \n4                 0          NaN  \n5                 0          NaN  \n6                 0          NaN  \n7                 0      20002.0  \n8                 0          NaN  \n9                 0          NaN  ",
      "text/html": "<div>\n<style scoped>\n    .dataframe tbody tr th:only-of-type {\n        vertical-align: middle;\n    }\n\n    .dataframe tbody tr th {\n        vertical-align: top;\n    }\n\n    .dataframe thead th {\n        text-align: right;\n    }\n</style>\n<table border=\"1\" class=\"dataframe\">\n  <thead>\n    <tr style=\"text-align: right;\">\n      <th></th>\n      <th>session_id</th>\n      <th>timestamp</th>\n      <th>user_id</th>\n      <th>product_id</th>\n      <th>event_type</th>\n      <th>offered_discount</th>\n      <th>purchase_id</th>\n    </tr>\n  </thead>\n  <tbody>\n    <tr>\n      <th>0</th>\n      <td>124</td>\n      <td>2020-03-17 21:55:02</td>\n      <td>102</td>\n      <td>1148</td>\n      <td>VIEW_PRODUCT</td>\n      <td>15</td>\n      <td>NaN</td>\n    </tr>\n    <tr>\n      <th>1</th>\n      <td>124</td>\n      <td>2020-03-17 21:59:51</td>\n      <td>102</td>\n      <td>1054</td>\n      <td>VIEW_PRODUCT</td>\n      <td>15</td>\n      <td>NaN</td>\n    </tr>\n    <tr>\n      <th>2</th>\n      <td>124</td>\n      <td>2020-03-17 22:00:12</td>\n      <td>102</td>\n      <td>1054</td>\n      <td>BUY_PRODUCT</td>\n      <td>15</td>\n      <td>20001.0</td>\n    </tr>\n    <tr>\n      <th>3</th>\n      <td>125</td>\n      <td>2020-08-29 21:34:55</td>\n      <td>102</td>\n      <td>1046</td>\n      <td>VIEW_PRODUCT</td>\n      <td>0</td>\n      <td>NaN</td>\n    </tr>\n    <tr>\n      <th>4</th>\n      <td>125</td>\n      <td>2020-08-29 21:35:46</td>\n      <td>102</td>\n      <td>1084</td>\n      <td>VIEW_PRODUCT</td>\n      <td>0</td>\n      <td>NaN</td>\n    </tr>\n    <tr>\n      <th>5</th>\n      <td>125</td>\n      <td>2020-08-29 21:39:53</td>\n      <td>102</td>\n      <td>1276</td>\n      <td>VIEW_PRODUCT</td>\n      <td>0</td>\n      <td>NaN</td>\n    </tr>\n    <tr>\n      <th>6</th>\n      <td>125</td>\n      <td>2020-08-29 21:43:47</td>\n      <td>102</td>\n      <td>1276</td>\n      <td>VIEW_PRODUCT</td>\n      <td>0</td>\n      <td>NaN</td>\n    </tr>\n    <tr>\n      <th>7</th>\n      <td>125</td>\n      <td>2020-08-29 21:48:11</td>\n      <td>102</td>\n      <td>1276</td>\n      <td>BUY_PRODUCT</td>\n      <td>0</td>\n      <td>20002.0</td>\n    </tr>\n    <tr>\n      <th>8</th>\n      <td>126</td>\n      <td>2021-05-07 17:33:16</td>\n      <td>102</td>\n      <td>1017</td>\n      <td>VIEW_PRODUCT</td>\n      <td>0</td>\n      <td>NaN</td>\n    </tr>\n    <tr>\n      <th>9</th>\n      <td>126</td>\n      <td>2021-05-07 17:37:59</td>\n      <td>102</td>\n      <td>1025</td>\n      <td>VIEW_PRODUCT</td>\n      <td>0</td>\n      <td>NaN</td>\n    </tr>\n  </tbody>\n</table>\n</div>"
     },
     "execution_count": 60,
     "metadata": {},
     "output_type": "execute_result"
    }
   ],
   "source": [
    "sessions_df.head(10)"
   ]
  },
  {
   "cell_type": "markdown",
   "metadata": {
    "pycharm": {
     "name": "#%% md\n"
    }
   },
   "source": [
    "Widzimy, że dane sesji nie zawierają bezpośrednio informacji o użytkownikach i produktach, a jedynie ich unikalne identyfikatory. Stwierdzamy, iż w celu dokonania lepszej analizy powinniśmy dołączyć do danych sesji odpowiadające dane z tabeli o użytkownikach i produktach.\n",
    "\n",
    "W tej sekcji postanowiliśmy odpowiedzieć sobie na kilka pytań istotnych z punktu widzenia zadania:\n",
    "- Czy istnieje użytkownik nieposiadający żadnej sesji?\n",
    "- Czy istnieje produkt, który nie został przez nikogo wyświetlony?\n",
    "- Czy dane użytkowników i produktów są pełne, tj. czy w danych sesji jest produkt bądź użytkownik, który nie widnieje w innych dostarczonych danych?\n",
    "\n",
    "Przy łączeniu danych wykorzystaliśmy operację **outer join**, by wszelkie braki w danych były proste do wychwycenia."
   ]
  },
  {
   "cell_type": "code",
   "execution_count": 61,
   "metadata": {
    "pycharm": {
     "name": "#%%\n"
    }
   },
   "outputs": [
    {
     "name": "stdout",
     "output_type": "stream",
     "text": [
      "True\n",
      "<class 'pandas.core.frame.DataFrame'>\n",
      "Int64Index: 116050 entries, 0 to 116049\n",
      "Data columns (total 14 columns):\n",
      " #   Column            Non-Null Count   Dtype         \n",
      "---  ------            --------------   -----         \n",
      " 0   session_id        116050 non-null  int64         \n",
      " 1   timestamp         116050 non-null  datetime64[ns]\n",
      " 2   user_id           116050 non-null  int64         \n",
      " 3   product_id        116050 non-null  int64         \n",
      " 4   event_type        116050 non-null  object        \n",
      " 5   offered_discount  116050 non-null  int64         \n",
      " 6   purchase_id       10692 non-null   float64       \n",
      " 7   name              116050 non-null  object        \n",
      " 8   city              116050 non-null  object        \n",
      " 9   street            116050 non-null  object        \n",
      " 10  product_name      116050 non-null  object        \n",
      " 11  category_path     116050 non-null  object        \n",
      " 12  price             116050 non-null  float64       \n",
      " 13  user_rating       116050 non-null  float64       \n",
      "dtypes: datetime64[ns](1), float64(3), int64(4), object(6)\n",
      "memory usage: 13.3+ MB\n"
     ]
    }
   ],
   "source": [
    "# Use outer join in order to keep all values from data frames.\n",
    "merged_df = pd.merge(sessions_df, users_df, how='outer', on='user_id')\n",
    "merged_df = pd.merge(merged_df, products_df, how='outer', on='product_id')\n",
    "\n",
    "print(sessions_df.shape[0] == merged_df.shape[0])\n",
    "merged_df.info()"
   ]
  },
  {
   "cell_type": "markdown",
   "metadata": {
    "pycharm": {
     "name": "#%% md\n"
    }
   },
   "source": [
    "Stwierdzamy, iż dane nie zawierają anomalii (brak nieznanych użytkowników i produktów).\n",
    "Dodatkowo obserwujemy, że użytkownicy częściej przeglądają produkty, niż je kupują. Stosunek obu rodzajów aktywności wynosi 105358:10692."
   ]
  },
  {
   "cell_type": "markdown",
   "metadata": {
    "pycharm": {
     "name": "#%% md\n"
    }
   },
   "source": [
    "Obszary, którym przyjrzymy się nieco dokładniej w dalszej części:\n",
    "- session_id — stwierdzenie liczby unikalnych sesji. Sprawdzenie, czy nie występują błędne dane (np. ujemne identyfikatory)\n",
    "- timestamp — sprawdzenie przedziału czasu, z jakiego pochodzą dane\n",
    "- analiza danych sesji — jakie są najpopularniejsze kategorie, produkty itp.\n",
    "- gęstość macierzy interakcji"
   ]
  },
  {
   "cell_type": "markdown",
   "metadata": {
    "pycharm": {
     "name": "#%% md\n"
    }
   },
   "source": [
    "### Identyfikator sesji\n",
    "\n",
    "Poszukujemy błędów w atrybucie **session_id**, takich jak wartości ujemne czy duplikacja."
   ]
  },
  {
   "cell_type": "code",
   "execution_count": 62,
   "metadata": {
    "pycharm": {
     "name": "#%%\n"
    }
   },
   "outputs": [
    {
     "name": "stdout",
     "output_type": "stream",
     "text": [
      "Minimum session id: 124\n",
      "Maximum session id: 19726\n",
      "Number of unique sessions: 19603\n"
     ]
    }
   ],
   "source": [
    "print(f\"Minimum session id: {sessions_df['session_id'].min()}\")\n",
    "print(f\"Maximum session id: {sessions_df['session_id'].max()}\")\n",
    "print(f\"Number of unique sessions: {sessions_df['session_id'].nunique()}\")"
   ]
  },
  {
   "cell_type": "markdown",
   "metadata": {
    "pycharm": {
     "name": "#%% md\n"
    }
   },
   "source": [
    "Wartości w kolumnie **session_id** są poprawne. Liczba 19603 unikalnych sesji jest również pokaźnym zbiorem danych. "
   ]
  },
  {
   "cell_type": "markdown",
   "metadata": {
    "pycharm": {
     "name": "#%% md\n"
    }
   },
   "source": [
    "### Sprawdzenie przedziału czasowego\n",
    "\n",
    "Dla naszego problemu istotne jest sprawdzenie, czy dane pochodzą z odpowiednio długiego okresu. Uważamy, że minimalny przedział pokryty przez dane powinien wynosić 1 rok. Dodatkowo zweryfikujemy czy okres pokryty jest w całości (tzn. czy nie występują okresy z brakiem danych)."
   ]
  },
  {
   "cell_type": "code",
   "execution_count": 63,
   "metadata": {
    "pycharm": {
     "name": "#%%\n"
    }
   },
   "outputs": [
    {
     "name": "stdout",
     "output_type": "stream",
     "text": [
      "Days count in data: 731\n",
      "first date:             session_id  user_id  product_id  event_type  offered_discount  \\\n",
      "timestamp                                                                   \n",
      "2019-12-11         106      106         106         106               106   \n",
      "\n",
      "            purchase_id  \n",
      "timestamp                \n",
      "2019-12-11            5  \n",
      "last date:             session_id  user_id  product_id  event_type  offered_discount  \\\n",
      "timestamp                                                                   \n",
      "2021-12-10         158      158         158         158               158   \n",
      "\n",
      "            purchase_id  \n",
      "timestamp                \n",
      "2021-12-10           13  \n"
     ]
    }
   ],
   "source": [
    "session_by_day_df = sessions_df.groupby(pd.Grouper(key='timestamp', axis=0, freq='1D', sort=True))\n",
    "print(f'Days count in data: {session_by_day_df.size().count()}')\n",
    "print(f'first date: {session_by_day_df.count().head(1)}\\nlast date: {session_by_day_df.count().tail(1)}')"
   ]
  },
  {
   "cell_type": "markdown",
   "metadata": {
    "pycharm": {
     "name": "#%% md\n"
    }
   },
   "source": [
    "Dane pochodzą z 2 lat, a dokładnie z okresu od **11.12.2019 do 10.12.2022**, w danych nie występują przerwy. Oznacza to, że dane są reprezentatywne i mogą być wykorzystane do rozwiązania zadania."
   ]
  },
  {
   "cell_type": "markdown",
   "metadata": {
    "pycharm": {
     "name": "#%% md\n"
    }
   },
   "source": [
    "### Popularność produktów i kategorii\n",
    "\n",
    "Poniżej sprawdzamy, jak często każdy z produktów występuję w danych. Można rozumieć to jako analizę \"popularności\" produktów w sklepie."
   ]
  },
  {
   "cell_type": "code",
   "execution_count": 64,
   "metadata": {
    "pycharm": {
     "name": "#%%\n"
    }
   },
   "outputs": [
    {
     "data": {
      "text/plain": "<seaborn.axisgrid.FacetGrid at 0x1bd64326c20>"
     },
     "execution_count": 64,
     "metadata": {},
     "output_type": "execute_result"
    },
    {
     "data": {
      "text/plain": "<Figure size 576x576 with 1 Axes>",
      "image/png": "[encoded data removed]"
     },
     "metadata": {},
     "output_type": "display_data"
    }
   ],
   "source": [
    "sns.catplot(data=sessions_df, kind='count', x='product_id', height=8)"
   ]
  },
  {
   "cell_type": "markdown",
   "metadata": {
    "pycharm": {
     "name": "#%% md\n"
    }
   },
   "source": [
    "Jak widać, w częstości interakcji z produktami istnieje duża dysproporcja. Widzimy, że jedynie niewielki odsetek produktów przyciąga znaczną uwagę użytkowników, podczas gdy większość produktów nie budzi większego zainteresowanie.\n",
    "\n",
    "Co istotne, każdy z produktów został obejrzany przez choć jednego użytkownika.\n",
    "\n",
    "Zainteresowało nas, jakie dokładnie produkty są najpopularniejsze i do jakich kategorii należą. Za poziom odcięcia przyjęliśmy 95 percentyl."
   ]
  },
  {
   "cell_type": "code",
   "execution_count": 65,
   "metadata": {
    "pycharm": {
     "name": "#%%\n"
    }
   },
   "outputs": [
    {
     "name": "stdout",
     "output_type": "stream",
     "text": [
      "count    16.000000\n",
      "mean      3.145805\n",
      "max       4.959925\n",
      "min       0.364934\n",
      "Name: user_rating, dtype: float64\n"
     ]
    },
    {
     "data": {
      "text/plain": "     product_id                        product_name  \\\n3          1004                Fallout 3 (Xbox 360)   \n10         1011        BioShock Infinite (Xbox 360)   \n16         1017                     LCD Dell U2412M   \n47         1048                     Gra o tron (PC)   \n48         1049                    Max Payne 3 (PC)   \n49         1050                     Bioshock 2 (PC)   \n50         1051              Spec Ops The Line (PC)   \n51         1052             Duke Nukem Forever (PC)   \n52         1053                      Anno 2070 (PC)   \n53         1054                 Call of Duty 2 (PC)   \n54         1055  Call of Duty Modern Warfare 3 (PC)   \n55         1056         Call of Duty Black Ops (PC)   \n56         1057                         Doom 3 (PC)   \n271        1272                       The Ball (PC)   \n285        1286                     Opticum AX-1000   \n315        1316          Plantronics Voyager Legend   \n\n                                                       category_path   price  \\\n3                          Gry i konsole;Gry na konsole;Gry Xbox 360   49.99   \n10                         Gry i konsole;Gry na konsole;Gry Xbox 360  139.99   \n16                                   Komputery;Monitory;Monitory LCD  399.00   \n47                                     Gry i konsole;Gry komputerowe   63.49   \n48                                     Gry i konsole;Gry komputerowe   17.90   \n49                                     Gry i konsole;Gry komputerowe   37.90   \n50                                     Gry i konsole;Gry komputerowe   76.90   \n51                                     Gry i konsole;Gry komputerowe   78.90   \n52                                     Gry i konsole;Gry komputerowe   42.90   \n53                                     Gry i konsole;Gry komputerowe   32.99   \n54                                     Gry i konsole;Gry komputerowe   32.99   \n55                                     Gry i konsole;Gry komputerowe   29.99   \n56                                     Gry i konsole;Gry komputerowe   19.99   \n271                                    Gry i konsole;Gry komputerowe    1.00   \n285               Sprzęt RTV;Video;Telewizory i akcesoria;Anteny RTV   59.99   \n315  Telefony i akcesoria;Akcesoria telefoniczne;Zestawy słuchawkowe  249.00   \n\n     user_rating  \n3       4.063970  \n10      3.251818  \n16      4.003806  \n47      2.346389  \n48      1.495826  \n49      4.959925  \n50      3.039276  \n51      2.176047  \n52      4.378637  \n53      4.628316  \n54      0.518008  \n55      0.364934  \n56      2.915635  \n271     3.863771  \n285     4.038794  \n315     4.287721  ",
      "text/html": "<div>\n<style scoped>\n    .dataframe tbody tr th:only-of-type {\n        vertical-align: middle;\n    }\n\n    .dataframe tbody tr th {\n        vertical-align: top;\n    }\n\n    .dataframe thead th {\n        text-align: right;\n    }\n</style>\n<table border=\"1\" class=\"dataframe\">\n  <thead>\n    <tr style=\"text-align: right;\">\n      <th></th>\n      <th>product_id</th>\n      <th>product_name</th>\n      <th>category_path</th>\n      <th>price</th>\n      <th>user_rating</th>\n    </tr>\n  </thead>\n  <tbody>\n    <tr>\n      <th>3</th>\n      <td>1004</td>\n      <td>Fallout 3 (Xbox 360)</td>\n      <td>Gry i konsole;Gry na konsole;Gry Xbox 360</td>\n      <td>49.99</td>\n      <td>4.063970</td>\n    </tr>\n    <tr>\n      <th>10</th>\n      <td>1011</td>\n      <td>BioShock Infinite (Xbox 360)</td>\n      <td>Gry i konsole;Gry na konsole;Gry Xbox 360</td>\n      <td>139.99</td>\n      <td>3.251818</td>\n    </tr>\n    <tr>\n      <th>16</th>\n      <td>1017</td>\n      <td>LCD Dell U2412M</td>\n      <td>Komputery;Monitory;Monitory LCD</td>\n      <td>399.00</td>\n      <td>4.003806</td>\n    </tr>\n    <tr>\n      <th>47</th>\n      <td>1048</td>\n      <td>Gra o tron (PC)</td>\n      <td>Gry i konsole;Gry komputerowe</td>\n      <td>63.49</td>\n      <td>2.346389</td>\n    </tr>\n    <tr>\n      <th>48</th>\n      <td>1049</td>\n      <td>Max Payne 3 (PC)</td>\n      <td>Gry i konsole;Gry komputerowe</td>\n      <td>17.90</td>\n      <td>1.495826</td>\n    </tr>\n    <tr>\n      <th>49</th>\n      <td>1050</td>\n      <td>Bioshock 2 (PC)</td>\n      <td>Gry i konsole;Gry komputerowe</td>\n      <td>37.90</td>\n      <td>4.959925</td>\n    </tr>\n    <tr>\n      <th>50</th>\n      <td>1051</td>\n      <td>Spec Ops The Line (PC)</td>\n      <td>Gry i konsole;Gry komputerowe</td>\n      <td>76.90</td>\n      <td>3.039276</td>\n    </tr>\n    <tr>\n      <th>51</th>\n      <td>1052</td>\n      <td>Duke Nukem Forever (PC)</td>\n      <td>Gry i konsole;Gry komputerowe</td>\n      <td>78.90</td>\n      <td>2.176047</td>\n    </tr>\n    <tr>\n      <th>52</th>\n      <td>1053</td>\n      <td>Anno 2070 (PC)</td>\n      <td>Gry i konsole;Gry komputerowe</td>\n      <td>42.90</td>\n      <td>4.378637</td>\n    </tr>\n    <tr>\n      <th>53</th>\n      <td>1054</td>\n      <td>Call of Duty 2 (PC)</td>\n      <td>Gry i konsole;Gry komputerowe</td>\n      <td>32.99</td>\n      <td>4.628316</td>\n    </tr>\n    <tr>\n      <th>54</th>\n      <td>1055</td>\n      <td>Call of Duty Modern Warfare 3 (PC)</td>\n      <td>Gry i konsole;Gry komputerowe</td>\n      <td>32.99</td>\n      <td>0.518008</td>\n    </tr>\n    <tr>\n      <th>55</th>\n      <td>1056</td>\n      <td>Call of Duty Black Ops (PC)</td>\n      <td>Gry i konsole;Gry komputerowe</td>\n      <td>29.99</td>\n      <td>0.364934</td>\n    </tr>\n    <tr>\n      <th>56</th>\n      <td>1057</td>\n      <td>Doom 3 (PC)</td>\n      <td>Gry i konsole;Gry komputerowe</td>\n      <td>19.99</td>\n      <td>2.915635</td>\n    </tr>\n    <tr>\n      <th>271</th>\n      <td>1272</td>\n      <td>The Ball (PC)</td>\n      <td>Gry i konsole;Gry komputerowe</td>\n      <td>1.00</td>\n      <td>3.863771</td>\n    </tr>\n    <tr>\n      <th>285</th>\n      <td>1286</td>\n      <td>Opticum AX-1000</td>\n      <td>Sprzęt RTV;Video;Telewizory i akcesoria;Anteny RTV</td>\n      <td>59.99</td>\n      <td>4.038794</td>\n    </tr>\n    <tr>\n      <th>315</th>\n      <td>1316</td>\n      <td>Plantronics Voyager Legend</td>\n      <td>Telefony i akcesoria;Akcesoria telefoniczne;Zestawy słuchawkowe</td>\n      <td>249.00</td>\n      <td>4.287721</td>\n    </tr>\n  </tbody>\n</table>\n</div>"
     },
     "execution_count": 65,
     "metadata": {},
     "output_type": "execute_result"
    },
    {
     "data": {
      "text/plain": "<Figure size 1267.2x576 with 1 Axes>",
      "image/png": "[encoded data removed]"
     },
     "metadata": {},
     "output_type": "display_data"
    },
    {
     "data": {
      "text/plain": "<Figure size 1267.2x576 with 1 Axes>",
      "image/png": "[encoded data removed]"
     },
     "metadata": {},
     "output_type": "display_data"
    }
   ],
   "source": [
    "sub_session_df = sessions_df.groupby('product_id').filter(lambda x : len(x) > sessions_df['product_id'].value_counts().quantile(q=0.95)).copy()\n",
    "sub_session_product_df = pd.merge(sub_session_df, products_df, how='inner', on='product_id')\n",
    "sns.catplot(data=sub_session_product_df, kind='count', x='product_name', height=8, aspect=2.2)\n",
    "plt.xticks(rotation=90) # Rotate labels to make plot more readable\n",
    "\n",
    "sns.catplot(data=sub_session_product_df, kind='count', x='category_path', height=8, aspect=2.2)\n",
    "top_products_df = products_df.loc[products_df['product_id'].isin(sub_session_df['product_id'].unique())]\n",
    "print(top_products_df['user_rating'].agg(['count', 'mean', 'max', 'min']))\n",
    "top_products_df"
   ]
  },
  {
   "cell_type": "markdown",
   "metadata": {
    "pycharm": {
     "name": "#%% md\n"
    }
   },
   "source": [
    "Okazuje się, że najpopularniejszymi produktami w sklepie są **Gry komputerowe**. Drugą najczęściej występującą kategorią są **Gry na konsolę**.\n",
    "\n",
    "Bardzo popularne okazały się produkty o bardzo niskiej ocenie np. **Gra Call of Duty Black Ops**: ~4000 interakcji, ocena ~0.4.\n",
    "\n",
    "Wśród 16 najpopularniejszych produktów średnia ocena wynosi ~3.1.\n",
    "\n",
    "Spojrzymy teraz całościowo na sesje i przeanalizujemy, jakie są najczęściej oglądane i kupowane kategorie produktów. Ze względu, że \"pełna kategoria\" wprowadza zbyt dużą gradację, na potrzeby tej analizy kategorie zostały zredukowane do 5 (zaproponowanych wcześniej podczas analizy atrybutu **category_path**).\n",
    "\n",
    "Dane sesji podzieliśmy na dwa rozłączne podzbiory, w jednym znajdują się tylko obejrzane produkty, w drugim tylko produkty kupione (**event_type** odpowiednio **VIEW_PRODUCT** i **BUY_PRODUCT**)."
   ]
  },
  {
   "cell_type": "code",
   "execution_count": 66,
   "metadata": {
    "pycharm": {
     "name": "#%%\n"
    }
   },
   "outputs": [
    {
     "data": {
      "text/plain": "Text(0.5, 1.0, 'Sessions with buy action')"
     },
     "execution_count": 66,
     "metadata": {},
     "output_type": "execute_result"
    },
    {
     "data": {
      "text/plain": "<Figure size 576x576 with 1 Axes>",
      "image/png": "[encoded data removed]"
     },
     "metadata": {},
     "output_type": "display_data"
    },
    {
     "data": {
      "text/plain": "<Figure size 576x576 with 1 Axes>",
      "image/png": "[encoded data removed]"
     },
     "metadata": {},
     "output_type": "display_data"
    }
   ],
   "source": [
    "session_product_df = pd.merge(sessions_df, products_df, how='inner', on='product_id')\n",
    "no_buy_sessions = session_product_df.loc[session_product_df['event_type'] == 'VIEW_PRODUCT'].copy()\n",
    "buy_sessions = session_product_df.loc[session_product_df['event_type'] == 'BUY_PRODUCT'].copy()\n",
    "\n",
    "# Reduce the number of product categories\n",
    "no_buy_sessions['category_path'] = no_buy_sessions['category_path'].apply(cast_category_path)\n",
    "buy_sessions['category_path'] = buy_sessions['category_path'].apply(cast_category_path)\n",
    "\n",
    "sns.catplot(data=no_buy_sessions, kind='count', x='category_path', height=8)\n",
    "plt.title(\"Sessions with no buy action\")\n",
    "\n",
    "sns.catplot(data=buy_sessions, kind='count', x='category_path', height=8)\n",
    "plt.title(\"Sessions with buy action\")"
   ]
  },
  {
   "cell_type": "markdown",
   "metadata": {
    "pycharm": {
     "name": "#%% md\n"
    }
   },
   "source": [
    "Jak widzimy, zarówno najczęściej oglądaną kategorią, jak i najchętniej kupowaną są **Gry komputerowe**. Następnie praktycznie na równej pozycji znajdują się **Gry na konsole**, **Sprzęt RTV** i **Komputery**. Pomiędzy tą trójką a faworytem istnieje jednak znacząca przepaść. Na ostatniej pozycji znajdziemy kategorię **Telefony i akcesoria**."
   ]
  },
  {
   "cell_type": "markdown",
   "metadata": {
    "pycharm": {
     "name": "#%% md\n"
    }
   },
   "source": [
    "## Współczynnik informacji wzajemnej\n",
    "\n",
    "Informacyjność danych jest istotna dla każdego problemu modelowania. Dla nas szczególnie istotne jest sprawdzenie, czy istnieje jakiś związek pomiędzy użytkownikiem a przeglądanymi produktami.\n",
    "\n",
    "Skalę makroskopową, tzn. czy użytkownik posiada jakieś indywidualne preferencje możemy sprawdzić licząc współczynnik informacji wzajemnej dla atrybutów **user_id** oraz **category_path**.\n",
    "Współczynnik policzyliśmy dla czterech formatów danych:\n",
    "- sesje oglądania produktu, ścieżka kategorii rzutowana do 5 kategorii głównych\n",
    "- sesje oglądania produktu, pełna ścieżka kategorii\n",
    "- sesje kupowania produktu, ścieżka kategorii rzutowana do 5 kategorii głównych\n",
    "- sesje kupowania produktu, pełna ścieżka kategorii"
   ]
  },
  {
   "cell_type": "code",
   "execution_count": 67,
   "metadata": {
    "pycharm": {
     "name": "#%%\n"
    }
   },
   "outputs": [
    {
     "name": "stdout",
     "output_type": "stream",
     "text": [
      "Mutual information score for user_id and casted category_path (view events): 0.0042247757436152476\n",
      "Mutual information score for user_id and category_path (view events): 0.01134813588066426\n",
      "Mutual information score for user_id and casted category_path (buy events): 0.012983846815320063\n",
      "Mutual information score for user_id and category_path (buy events): 0.0364898185058142\n"
     ]
    }
   ],
   "source": [
    "from sklearn import metrics\n",
    "\n",
    "no_buy_session_product_df = session_product_df.drop(session_product_df.index[session_product_df['event_type'] == 'BUY_PRODUCT']).copy()\n",
    "buy_session_product = session_product_df.dropna(subset=['purchase_id']).copy()\n",
    "\n",
    "cast_no_buy_session_product_df = no_buy_session_product_df.copy()\n",
    "cast_no_buy_session_product_df['category_path'] = no_buy_session_product_df['category_path'].apply(cast_category_path)\n",
    "\n",
    "cast_buy_session_product_df = buy_session_product.copy()\n",
    "cast_buy_session_product_df['category_path'] = buy_session_product['category_path'].apply(cast_category_path)\n",
    "\n",
    "print(f\"Mutual information score for user_id and casted category_path (view events): {metrics.normalized_mutual_info_score(cast_no_buy_session_product_df['user_id'], cast_no_buy_session_product_df['category_path'])}\")\n",
    "print(f\"Mutual information score for user_id and category_path (view events): {metrics.normalized_mutual_info_score(no_buy_session_product_df['user_id'], no_buy_session_product_df['category_path'])}\")\n",
    "\n",
    "print(f\"Mutual information score for user_id and casted category_path (buy events): {metrics.normalized_mutual_info_score(cast_buy_session_product_df['user_id'], cast_buy_session_product_df['category_path'])}\")\n",
    "print(f\"Mutual information score for user_id and category_path (buy events): {metrics.normalized_mutual_info_score(buy_session_product['user_id'], buy_session_product['category_path'])}\")"
   ]
  },
  {
   "cell_type": "markdown",
   "metadata": {
    "pycharm": {
     "name": "#%% md\n"
    }
   },
   "source": [
    "Wyznaczony współczynnik informacji wzajemnej (znormalizowany) ma bardzo niską wartość. Tylko jeden współczynnik ma wartość powyżej 0.02 i wynosi on ~0.036. Co ciekawe, okazuje się on być wyższy dla bardziej szczegółowych kategorii.\n",
    "\n",
    "Po dłuższym zastanowieniu doszliśmy do wniosku, że nie jesteśmy pewni czy wskaźnik ten powinien mieć wysoką wartość. Na ten moment przyjmujemy te dane takimi, jake są i ocenimy je w późniejszym etapie.\n",
    "Kolejnym pomysłem było sprawdzenie, czy istnieje zależność między ilością interakcji (popularnością) z produktem a jego oceną.\n",
    "Tym razem, ze względu na ciągłość atrybutów i chęć wychwycenia bardziej liniowej zależności, policzyliśmy korelację liniową.\n",
    "Podobnie jak wcześniej policzyliśmy ją oddzielnie dla sesji przeglądania i zakupowych."
   ]
  },
  {
   "cell_type": "code",
   "execution_count": 68,
   "metadata": {
    "pycharm": {
     "name": "#%%\n"
    }
   },
   "outputs": [
    {
     "name": "stdout",
     "output_type": "stream",
     "text": [
      "Linear correlation between popularity of a product and user_rating (view events): 0.05492652941356389\n",
      "Linear correlation between popularity of a product and user_rating (buy events): 0.1781114729161072\n"
     ]
    }
   ],
   "source": [
    "no_buy_session_product_df['user_rating'] = no_buy_session_product_df['user_rating'].apply(lambda x : round(x, 1))\n",
    "no_buy_prod_count_series = no_buy_session_product_df.groupby(['product_id'])['user_id'].count().copy()\n",
    "no_buy_rating_series = no_buy_session_product_df.groupby(['product_id'])['user_rating'].unique().copy()\n",
    "no_buy_rating_series = no_buy_rating_series.apply(lambda x : x[0])\n",
    "print(f\"Linear correlation between popularity of a product and user_rating (view events): {no_buy_prod_count_series.corr(no_buy_rating_series)}\")\n",
    "\n",
    "buy_session_product['user_rating'] = buy_session_product['user_rating'].apply(lambda x : round(x, 1))\n",
    "buy_prod_count_series = buy_session_product.groupby(['product_id'])['user_id'].count().copy()\n",
    "buy_rating_series = buy_session_product.groupby(['product_id'])['user_rating'].unique().copy()\n",
    "buy_rating_series = buy_rating_series.apply(lambda x : x[0])\n",
    "print(f\"Linear correlation between popularity of a product and user_rating (buy events): {buy_prod_count_series.corr(buy_rating_series)}\")"
   ]
  },
  {
   "cell_type": "markdown",
   "metadata": {
    "pycharm": {
     "name": "#%% md\n"
    }
   },
   "source": [
    "Okazuje się, że i w tym wypadku obserwujemy dość słabą korelację. Dla zdarzeń przeglądania jest ona bliska zeru. Początkowo zakładaliśmy, że spodziewamy się tutaj silnej korelacji. Po przemyśleniach uważamy, że nie musi to być prawdą.\n",
    "Ocena produktu jest dobrowolna, stąd nie każdy użytkownik się na nią decyduje. Dodatkowo użytkownicy mogą przy swoich wyborach kierować się innymi (np. zewnętrznymi) kryteriami, a nie średnią oceną produktu w sklepie eSzoppping.\n",
    "Wszystko to sprawia, że ocena nie musi być reprezentatywna co do popularności produktu. \n",
    "\n",
    "Korelacja dla zdarzeń zakupu jest wielokrotnie wyższa, co sugeruje, że ocena produktu w sklepie ma jakiś wpływ przy decyzji zakupowej użytkownika."
   ]
  },
  {
   "cell_type": "markdown",
   "metadata": {
    "pycharm": {
     "name": "#%% md\n"
    }
   },
   "source": [
    "Postanowiliśmy jeszcze sprawdzić, czy zachodzi korelacja liniowa pomiędzy ilością interakcji (popularnością) z danym produktem a jego ceną. Jak wcześniej współczynnik, policzyliśmy niezależenie dla sesji przeglądania i zakupowych."
   ]
  },
  {
   "cell_type": "code",
   "execution_count": 69,
   "metadata": {
    "pycharm": {
     "name": "#%%\n"
    }
   },
   "outputs": [
    {
     "name": "stdout",
     "output_type": "stream",
     "text": [
      "Linear correlation between popularity of a product and price (view events): 0.045856597412131626\n",
      "Linear correlation between popularity of a product and price (buy events): 0.053533667745115546\n"
     ]
    }
   ],
   "source": [
    "no_buy_price_series = no_buy_session_product_df.groupby(['product_id'])['price'].unique().copy()\n",
    "no_buy_price_series = no_buy_price_series.apply(lambda x : x[0])\n",
    "print(f\"Linear correlation between popularity of a product and price (view events): {no_buy_prod_count_series.corr(no_buy_price_series)}\")\n",
    "\n",
    "buy_price_series = buy_session_product.groupby(['product_id'])['price'].unique().copy()\n",
    "buy_price_series = buy_price_series.apply(lambda x : x[0])\n",
    "print(f\"Linear correlation between popularity of a product and price (buy events): {buy_prod_count_series.corr(buy_price_series)}\")"
   ]
  },
  {
   "cell_type": "markdown",
   "metadata": {
    "pycharm": {
     "name": "#%% md\n"
    }
   },
   "source": [
    "Wyznaczone współczynniki ponownie są bliskie zeru.\n",
    "Sugeruje to, że w przypadku użytkowników sklepu eSzoppping cena produktu nie gra większej roli, zarówno przy oglądaniu produktów, jak i ich zakupie.\n",
    "Oznacza to, że ten argument jest potencjalnie zbędny przy tworzeniu modelu."
   ]
  },
  {
   "cell_type": "markdown",
   "metadata": {
    "pycharm": {
     "name": "#%% md\n"
    }
   },
   "source": [
    "### Badanie gęstości macierzy interakcji\n",
    "Postanowiliśmy sprawdzić również, jak wygląda gęstość otrzymanych danych dla zadania predykcji. Utworzyliśmy macierz, której kolumny odpowiadają wszystkim produktom w ofercie, a wiersze poszczególnym użytkownikom.\n",
    "Jeżeli użytkownik wszedł w interakcje z danym produktem (obejrzał go lub kupił), w odpowiadającej komórce będzie 1, w przeciwnym wypadku komórka pozostanie pusta. Dla tak utworzonej macierzy policzyliśmy gęstość."
   ]
  },
  {
   "cell_type": "code",
   "execution_count": 70,
   "metadata": {
    "pycharm": {
     "name": "#%%\n"
    }
   },
   "outputs": [
    {
     "name": "stdout",
     "output_type": "stream",
     "text": [
      "Sparse matrix density: 0.4485266457680251\n"
     ]
    }
   ],
   "source": [
    "df = sessions_df.drop(columns=[\"session_id\", \"timestamp\", \"event_type\", \"offered_discount\", \"purchase_id\"])\n",
    "df[\"hit\"] = 1\n",
    "heat_map_df = pd.pivot_table(df, index=\"user_id\", columns=\"product_id\", values=\"hit\")\n",
    "print(\"Sparse matrix density: \" + str((heat_map_df.size - heat_map_df.isna().sum().sum()) / heat_map_df.size))\n"
   ]
  },
  {
   "cell_type": "markdown",
   "metadata": {
    "pycharm": {
     "name": "#%% md\n"
    }
   },
   "source": [
    "Gęstość powyższej macierzy wynosi ~44,8%, co jest wartością wystarczającą dla zadania rekomendacji."
   ]
  },
  {
   "cell_type": "markdown",
   "metadata": {
    "pycharm": {
     "name": "#%% md\n"
    }
   },
   "source": [
    "# Podsumowanie\n",
    "\n",
    "Podsumowując powyższą analizę:\n",
    "* W dostarczonych danych nie wykryto oczywistych błędów, takich jak: braki wartości, błędne wartości atrybutów. Jedyne co zwróciło naszą uwagę to trzy produkty, których koszt wynosi 1.\n",
    "* Dostarczone dane pochodzą z okresu 24 miesięcy, co daje nam reprezentatywny przedział czasowy.\n",
    "* Kategorie produktów są bardzo nierównomierne. Nawet po zredukowaniu ilości grup do 5 najgorszy współczynnik niezbilansowania wynosi ~1:14. Możemy próbować temu zaradzić, rozbijając kategorię większościową (Gry komputerowe), na mniejsze np. na gatunki gier. Ostateczną decyzję podejmiemy poprzez analizę zachowanie modeli.\n",
    "* W danych zachodzi również duża nierównomierność w popularności produktów mierzonej jako liczba interakcji. Podobnie sytuacja wygląda z kategoriami, widzimy bezpośrednią korelację między liczebnością grupy (zredukowanej), a jej popularnością.\n",
    "* Współczynnik informacji wzajemnej między *user_id*, a *category_path* pokazał, że użytkownicy nie wydają się mieć z góry określony preferencji.\n",
    "* Współczynniki korelacji liniowej dla ilości interakcji z danym produktem, a jego oceną są bliskie zeru, podobnie jak dla współczynnika między ilością interakcji a ceną produkty.\n",
    "Oznacza to, że te atrybuty te są dla nas mało interesujące (niska informacyjność).\n",
    "* Policzone współczynniki sugerują brak spodziewanych zależności. Nie oznacza to koniecznie błędów w danych. Ponowną iterację przeprowadzimy po wytworzeniu pierwszych modeli.\n",
    "* Sprawdziliśmy również, jak wygląda gęstość macierzy interakcji, kluczowy wskaźnik dla problemu rekomendacji — nie budzi on żadnych zastrzeżeń."
   ]
  }
 ],
 "metadata": {
  "interpreter": {
   "hash": "916dbcbb3f70747c44a77c7bcd40155683ae19c65e1c03b4aa3499c5328201f1"
  },
  "kernelspec": {
   "display_name": "Python 3 (ipykernel)",
   "language": "python",
   "name": "python3"
  },
  "language_info": {
   "codemirror_mode": {
    "name": "ipython",
    "version": 3
   },
   "file_extension": ".py",
   "mimetype": "text/x-python",
   "name": "python",
   "nbconvert_exporter": "python",
   "pygments_lexer": "ipython3",
   "version": "3.9.5"
  }
 },
 "nbformat": 4,
 "nbformat_minor": 2
}