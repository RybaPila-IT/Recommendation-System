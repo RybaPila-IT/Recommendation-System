{
 "cells": [
  {
   "cell_type": "markdown",
   "metadata": {},
   "source": [
    "Model popularnościowy.\n",
    "\n",
    "Wszytskie produkty w sklepie oceniane są zgodnie z metryką opartą na popularności (wzorujemy się na metryce wykorzystywanej w serwisie IMDB)."
   ]
  },
  {
   "cell_type": "code",
   "execution_count": 1,
   "metadata": {},
   "outputs": [],
   "source": [
    "import pandas as pd\n",
    "import numpy as np"
   ]
  },
  {
   "cell_type": "code",
   "execution_count": 2,
   "metadata": {},
   "outputs": [],
   "source": [
    "def calculate_raiting(raiting, popularity, minPopularity, avgRaiting) -> pd.Series:\n",
    "    return ( (popularity / (popularity + minPopularity)) * raiting) + ( (minPopularity / (popularity + minPopularity)) * avgRaiting )\n",
    "\n",
    "def assigne_raiting(productsDF : pd.DataFrame):\n",
    "    avgRaiting = productsDF['user_rating'].mean()\n",
    "    minPopularity = np.percentile(productsDF['count'], 80)\n",
    "    #deep copy because it is modified and returned as result\n",
    "    products = productsDF[productsDF['count'] >= minPopularity].copy()\n",
    "    userRaitings = products['user_rating']\n",
    "    popularity = products['count']\n",
    "\n",
    "    products['score'] = calculate_raiting(userRaitings, popularity, minPopularity, avgRaiting)\n",
    "    return products\n",
    "\n",
    "def preprocess_data(productsDF : pd.DataFrame, sessionsDF : pd.DataFrame) -> pd.DataFrame:\n",
    "    popularity = sessionsDF['product_id'].value_counts().rename_axis('product_id').reset_index(name='count')\n",
    "    products = productsDF.drop(columns=['product_name','category_path','price'])\n",
    "    return pd.merge(products, popularity, how='inner', on='product_id')\n"
   ]
  },
  {
   "cell_type": "code",
   "execution_count": 3,
   "metadata": {},
   "outputs": [],
   "source": [
    "productsDataPath = '../notebooks/data/v2/products.jsonl'\n",
    "sessionsDataPath = '../notebooks/data/v2/sessions.jsonl'\n",
    "\n",
    "sessionsDF = pd.read_json(sessionsDataPath, lines=True)\n",
    "productsDF = pd.read_json(productsDataPath, lines=True)"
   ]
  },
  {
   "cell_type": "code",
   "execution_count": 4,
   "metadata": {},
   "outputs": [
    {
     "data": {
      "text/html": [
       "<div>\n",
       "<style scoped>\n",
       "    .dataframe tbody tr th:only-of-type {\n",
       "        vertical-align: middle;\n",
       "    }\n",
       "\n",
       "    .dataframe tbody tr th {\n",
       "        vertical-align: top;\n",
       "    }\n",
       "\n",
       "    .dataframe thead th {\n",
       "        text-align: right;\n",
       "    }\n",
       "</style>\n",
       "<table border=\"1\" class=\"dataframe\">\n",
       "  <thead>\n",
       "    <tr style=\"text-align: right;\">\n",
       "      <th></th>\n",
       "      <th>product_id</th>\n",
       "      <th>user_rating</th>\n",
       "      <th>count</th>\n",
       "      <th>score</th>\n",
       "    </tr>\n",
       "  </thead>\n",
       "  <tbody>\n",
       "    <tr>\n",
       "      <th>49</th>\n",
       "      <td>1050</td>\n",
       "      <td>4.959925</td>\n",
       "      <td>8849</td>\n",
       "      <td>4.870842</td>\n",
       "    </tr>\n",
       "    <tr>\n",
       "      <th>53</th>\n",
       "      <td>1054</td>\n",
       "      <td>4.628316</td>\n",
       "      <td>2903</td>\n",
       "      <td>4.413290</td>\n",
       "    </tr>\n",
       "    <tr>\n",
       "      <th>76</th>\n",
       "      <td>1077</td>\n",
       "      <td>4.822859</td>\n",
       "      <td>1182</td>\n",
       "      <td>4.322345</td>\n",
       "    </tr>\n",
       "    <tr>\n",
       "      <th>52</th>\n",
       "      <td>1053</td>\n",
       "      <td>4.378637</td>\n",
       "      <td>9644</td>\n",
       "      <td>4.317473</td>\n",
       "    </tr>\n",
       "    <tr>\n",
       "      <th>315</th>\n",
       "      <td>1316</td>\n",
       "      <td>4.287721</td>\n",
       "      <td>1351</td>\n",
       "      <td>3.948933</td>\n",
       "    </tr>\n",
       "    <tr>\n",
       "      <th>...</th>\n",
       "      <td>...</td>\n",
       "      <td>...</td>\n",
       "      <td>...</td>\n",
       "      <td>...</td>\n",
       "    </tr>\n",
       "    <tr>\n",
       "      <th>78</th>\n",
       "      <td>1079</td>\n",
       "      <td>0.695480</td>\n",
       "      <td>1005</td>\n",
       "      <td>1.215417</td>\n",
       "    </tr>\n",
       "    <tr>\n",
       "      <th>305</th>\n",
       "      <td>1306</td>\n",
       "      <td>0.501814</td>\n",
       "      <td>955</td>\n",
       "      <td>1.094410</td>\n",
       "    </tr>\n",
       "    <tr>\n",
       "      <th>12</th>\n",
       "      <td>1013</td>\n",
       "      <td>0.166660</td>\n",
       "      <td>848</td>\n",
       "      <td>0.911414</td>\n",
       "    </tr>\n",
       "    <tr>\n",
       "      <th>54</th>\n",
       "      <td>1055</td>\n",
       "      <td>0.518008</td>\n",
       "      <td>3687</td>\n",
       "      <td>0.708988</td>\n",
       "    </tr>\n",
       "    <tr>\n",
       "      <th>55</th>\n",
       "      <td>1056</td>\n",
       "      <td>0.364934</td>\n",
       "      <td>3178</td>\n",
       "      <td>0.598922</td>\n",
       "    </tr>\n",
       "  </tbody>\n",
       "</table>\n",
       "<p>64 rows × 4 columns</p>\n",
       "</div>"
      ],
      "text/plain": [
       "     product_id  user_rating  count     score\n",
       "49         1050     4.959925   8849  4.870842\n",
       "53         1054     4.628316   2903  4.413290\n",
       "76         1077     4.822859   1182  4.322345\n",
       "52         1053     4.378637   9644  4.317473\n",
       "315        1316     4.287721   1351  3.948933\n",
       "..          ...          ...    ...       ...\n",
       "78         1079     0.695480   1005  1.215417\n",
       "305        1306     0.501814    955  1.094410\n",
       "12         1013     0.166660    848  0.911414\n",
       "54         1055     0.518008   3687  0.708988\n",
       "55         1056     0.364934   3178  0.598922\n",
       "\n",
       "[64 rows x 4 columns]"
      ]
     },
     "execution_count": 4,
     "metadata": {},
     "output_type": "execute_result"
    }
   ],
   "source": [
    "raiting = assigne_raiting(preprocess_data(productsDF, sessionsDF))\n",
    "raiting.sort_values('score', ascending=False)"
   ]
  }
 ],
 "metadata": {
  "interpreter": {
   "hash": "916dbcbb3f70747c44a77c7bcd40155683ae19c65e1c03b4aa3499c5328201f1"
  },
  "kernelspec": {
   "display_name": "Python 3.9.7 64-bit",
   "language": "python",
   "name": "python3"
  },
  "language_info": {
   "codemirror_mode": {
    "name": "ipython",
    "version": 3
   },
   "file_extension": ".py",
   "mimetype": "text/x-python",
   "name": "python",
   "nbconvert_exporter": "python",
   "pygments_lexer": "ipython3",
   "version": "3.9.7"
  },
  "orig_nbformat": 4
 },
 "nbformat": 4,
 "nbformat_minor": 2
}
