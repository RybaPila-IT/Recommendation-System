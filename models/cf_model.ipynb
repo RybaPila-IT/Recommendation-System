{
 "cells": [
  {
   "cell_type": "markdown",
   "metadata": {},
   "source": [
    "Model typu filtrowanie kolaboracyjne (collaborative filtering).\n",
    "\n",
    "Wykorzystujemy w tym celu macierz interakcji, którą następnie dekomponujemy na macierze mniejszej wymiarowości z użyciem \n",
    "TruncatedSVD - sklearn. "
   ]
  },
  {
   "cell_type": "code",
   "execution_count": 8,
   "metadata": {},
   "outputs": [],
   "source": [
    "import pandas as pd\n",
    "import numpy as np"
   ]
  },
  {
   "cell_type": "markdown",
   "metadata": {},
   "source": [
    "Przygotowanie macierzy interakcji"
   ]
  },
  {
   "cell_type": "code",
   "execution_count": 9,
   "metadata": {},
   "outputs": [],
   "source": [
    "sessionsDataPath = '../notebooks/data/v2/sessions.jsonl'\n",
    "sessionsDF = pd.read_json(sessionsDataPath, lines=True)\n",
    "\n",
    "df = sessionsDF.drop(columns=[\"session_id\", \"timestamp\", \"event_type\", \"offered_discount\", \"purchase_id\"])\n",
    "df[\"count\"] = 1\n",
    "interactionMatrixDF = pd.pivot_table(df, index=\"user_id\", columns=\"product_id\", values=\"count\", aggfunc=np.sum, fill_value=0)"
   ]
  },
  {
   "cell_type": "markdown",
   "metadata": {},
   "source": [
    "Dekompozycja utworzonej macierzy na podmacierze ze względu na użytkowników i produkty."
   ]
  },
  {
   "cell_type": "code",
   "execution_count": 10,
   "metadata": {},
   "outputs": [],
   "source": [
    "from sklearn.decomposition import TruncatedSVD\n",
    "\n",
    "#initial hiperparameters\n",
    "epsilon = 1e-9\n",
    "latentFactors = 10\n",
    "\n",
    "#generate item latent features\n",
    "itemSVD = TruncatedSVD(n_components=latentFactors)\n",
    "itemFeatures = itemSVD.fit_transform(interactionMatrixDF.transpose()) + epsilon #transpose because items are columns\n",
    "\n",
    "#generate user latent features\n",
    "itemSVD = TruncatedSVD(n_components=latentFactors)\n",
    "itemFeatures = itemSVD.fit_transform(interactionMatrixDF) + epsilon"
   ]
  }
 ],
 "metadata": {
  "interpreter": {
   "hash": "916dbcbb3f70747c44a77c7bcd40155683ae19c65e1c03b4aa3499c5328201f1"
  },
  "kernelspec": {
   "display_name": "Python 3.9.7 64-bit",
   "language": "python",
   "name": "python3"
  },
  "language_info": {
   "codemirror_mode": {
    "name": "ipython",
    "version": 3
   },
   "file_extension": ".py",
   "mimetype": "text/x-python",
   "name": "python",
   "nbconvert_exporter": "python",
   "pygments_lexer": "ipython3",
   "version": "3.9.7"
  },
  "orig_nbformat": 4
 },
 "nbformat": 4,
 "nbformat_minor": 2
}
